{
 "cells": [
  {
   "cell_type": "code",
   "id": "initial_id",
   "metadata": {
    "collapsed": true,
    "ExecuteTime": {
     "end_time": "2024-12-03T07:41:01.140014Z",
     "start_time": "2024-12-03T07:41:01.019416Z"
    }
   },
   "source": [
    "import tkinter as tk\n",
    "from tkinter import scrolledtext"
   ],
   "outputs": [],
   "execution_count": 1
  },
  {
   "metadata": {
    "ExecuteTime": {
     "end_time": "2024-12-03T07:41:24.221473Z",
     "start_time": "2024-12-03T07:41:15.033365Z"
    }
   },
   "cell_type": "code",
   "source": [
    "def send_message():\n",
    "    user_input = user_entry.get()\n",
    "    if user_input.strip():\n",
    "        chat_window.insert(tk.END, f\"You: {user_input}\\n\")\n",
    "        response = get_chatbot_response(user_input)  \n",
    "        chat_window.insert(tk.END, f\"Bot: {response}\\n\")\n",
    "        user_entry.delete(0, tk.END)\n",
    "\n",
    "def get_chatbot_response(user_input):\n",
    "    return \"Cảm ơn bạn đã nhắn tin! Tôi là Chatbot.\"\n",
    "\n",
    "root = tk.Tk() \n",
    "root.title(\"Chatbot GUI\")\n",
    "\n",
    "root.resizable(True, True)\n",
    "\n",
    "chat_window = scrolledtext.ScrolledText(root, wrap=tk.WORD, state=\"normal\")\n",
    "chat_window.pack(fill=tk.BOTH, expand=True, padx=10, pady=10)\n",
    "\n",
    "user_entry = tk.Entry(root)\n",
    "user_entry.pack(fill=tk.X, padx=10, pady=10)  \n",
    "\n",
    "# Nút gửi\n",
    "send_button = tk.Button(root, text=\"Gửi\", command=send_message, bg=\"blue\", fg=\"white\")\n",
    "send_button.pack(fill=tk.X, padx=10, pady=10)  \n",
    "\n",
    "root.mainloop()"
   ],
   "id": "23ed8242c89a8ad3",
   "outputs": [],
   "execution_count": 2
  }
 ],
 "metadata": {
  "kernelspec": {
   "display_name": "Python 3",
   "language": "python",
   "name": "python3"
  },
  "language_info": {
   "codemirror_mode": {
    "name": "ipython",
    "version": 2
   },
   "file_extension": ".py",
   "mimetype": "text/x-python",
   "name": "python",
   "nbconvert_exporter": "python",
   "pygments_lexer": "ipython2",
   "version": "2.7.6"
  }
 },
 "nbformat": 4,
 "nbformat_minor": 5
}
